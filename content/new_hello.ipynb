{
 "cells": [
  {
   "cell_type": "markdown",
   "id": "bebc74b7",
   "metadata": {},
   "source": [
    "this is new fil"
   ]
  },
  {
   "cell_type": "code",
   "execution_count": null,
   "id": "032d5208",
   "metadata": {},
   "outputs": [],
   "source": [
    "y = 5\n",
    "print(y)"
   ]
  }
 ],
 "metadata": {
  "language_info": {
   "name": "python"
  }
 },
 "nbformat": 4,
 "nbformat_minor": 5
}
