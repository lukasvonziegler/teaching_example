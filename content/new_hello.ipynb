{
 "cells": [
  {
   "cell_type": "markdown",
   "id": "bebc74b7",
   "metadata": {},
   "source": [
    "this is new fil"
   ]
  },
  {
   "cell_type": "code",
   "execution_count": null,
   "id": "032d5208",
   "metadata": {},
   "outputs": [],
   "source": [
    "y = 5\n",
    "print(y)"
   ]
  },
  {
   "cell_type": "markdown",
   "id": "25daa563",
   "metadata": {},
   "source": [
    "this is the next chapter"
   ]
  },
  {
   "cell_type": "code",
   "execution_count": null,
   "id": "1f188b1f",
   "metadata": {},
   "outputs": [],
   "source": [
    "v = 20\n",
    "print(v)"
   ]
  }
 ],
 "metadata": {
  "language_info": {
   "name": "python"
  }
 },
 "nbformat": 4,
 "nbformat_minor": 5
}
