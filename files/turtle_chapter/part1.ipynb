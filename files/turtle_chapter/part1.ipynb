{
 "cells": [
  {
   "cell_type": "markdown",
   "id": "ca33c7f8",
   "metadata": {},
   "source": [
    "# This is a test part\n",
    "\n",
    "some text\n",
    "\n",
    "Turtle!"
   ]
  },
  {
   "cell_type": "code",
   "execution_count": null,
   "id": "e6f40b0a",
   "metadata": {},
   "outputs": [],
   "source": [
    "%pip install -q ipyturtle3 ipycanvas ipywidgets\n",
    "\n",
    "import ipyturtle3 as turtle\n",
    "from ipyturtle3 import hold_canvas\n",
    "myCanvas=turtle.Canvas(width=500,height=250)\n",
    "display(myCanvas)\n",
    "myTS=turtle.TurtleScreen(myCanvas)\n",
    "myTS.clear()\n",
    "myTS.bgcolor(\"lightgreen\")\n",
    "bob=turtle.Turtle(myTS)\n",
    "jess=turtle.Turtle(myTS,isHolonomic=True)\n",
    "jess.shape(\"square\")\n",
    "bob.shape(\"turtle\")\n",
    "\n",
    "myTS.delay(200)\n",
    "# Usual turtle Non-holonomic example\n",
    "bob.forward(50)\n",
    "bob.left(90)\n",
    "bob.forward(50)\n",
    "bob.left(90)\n",
    "bob.forward(50)\n",
    "bob.left(90)\n",
    "bob.forward(50)\n",
    "\n",
    "\n",
    "#Holonomic\n",
    "jess.moveleft(200)\n",
    "jess.moveup(100)\n",
    "jess.moveright(100)\n",
    "jess.movedown(100)\n",
    "jess.turnright(45)\n",
    "jess.turn(-45)\n",
    "jess.distance_at_angle(50,45)\n",
    "\n",
    "myTS.clear()\n",
    "\n",
    "# Rainbow benzene\n",
    "colors = ['red', 'purple', 'blue', 'green', 'orange', 'yellow']\n",
    "t = turtle.Turtle(myTS)\n",
    "myTS.bgcolor('black')\n",
    "for x in range(50):\n",
    "    with(hold_canvas(myCanvas)):\n",
    "        t.pencolor(colors[x%6])\n",
    "        t.width(x//100 + 1)\n",
    "        t.forward(x)\n",
    "        t.left(59)"
   ]
  }
 ],
 "metadata": {
  "language_info": {
   "name": "python"
  }
 },
 "nbformat": 4,
 "nbformat_minor": 5
}
