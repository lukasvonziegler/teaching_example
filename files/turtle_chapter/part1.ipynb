{
 "cells": [
  {
   "cell_type": "markdown",
   "id": "ca33c7f8",
   "metadata": {},
   "source": [
    "# This is a test part\n",
    "\n",
    "some text\n",
    "\n",
    "Turtle!"
   ]
  },
  {
   "cell_type": "code",
   "execution_count": null,
   "id": "e6f40b0a",
   "metadata": {},
   "outputs": [],
   "source": [
    "import piplite\n",
    "await piplite.install(\"jupyturtle==2024.4.1\", deps=False)\n",
    "\n",
    "from jupyturtle import *\n",
    "fd(100); \n",
    "lt(90); \n",
    "fd(50)"
   ]
  },
  {
   "cell_type": "code",
   "execution_count": null,
   "id": "99fdd8ef",
   "metadata": {},
   "outputs": [],
   "source": [
    "make_turtle()\n",
    "lt(120)\n",
    "fd(50)"
   ]
  }
 ],
 "metadata": {
  "language_info": {
   "name": "python"
  }
 },
 "nbformat": 4,
 "nbformat_minor": 5
}
